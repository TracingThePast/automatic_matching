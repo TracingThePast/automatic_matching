{
 "cells": [
  {
   "cell_type": "code",
   "execution_count": 1,
   "id": "c418bcd4",
   "metadata": {},
   "outputs": [
    {
     "name": "stdout",
     "output_type": "stream",
     "text": [
      "Collecting git+https://github.com/TracingThePast/automatic_matching\n",
      "  Cloning https://github.com/TracingThePast/automatic_matching to /private/var/folders/99/chbgg_5s3tn77pkyp7wp3_bm0000gn/T/pip-req-build-8f4083in\n",
      "  Running command git clone --filter=blob:none --quiet https://github.com/TracingThePast/automatic_matching /private/var/folders/99/chbgg_5s3tn77pkyp7wp3_bm0000gn/T/pip-req-build-8f4083in\n",
      "  Resolved https://github.com/TracingThePast/automatic_matching to commit 12818379a4c891d743a0df29f95fa2058d729ef3\n",
      "  Installing build dependencies ... \u001b[?25ldone\n",
      "\u001b[?25h  Getting requirements to build wheel ... \u001b[?25ldone\n",
      "\u001b[?25h  Installing backend dependencies ... \u001b[?25ldone\n",
      "\u001b[?25h  Preparing metadata (pyproject.toml) ... \u001b[?25ldone\n",
      "\u001b[?25hRequirement already satisfied: levenshtein~=0.25 in ./env/lib/python3.12/site-packages (from automatic_matching==0.1.1) (0.25.1)\n",
      "Requirement already satisfied: numpy~=1.26 in ./env/lib/python3.12/site-packages (from automatic_matching==0.1.1) (1.26.4)\n",
      "Requirement already satisfied: rapidfuzz<4.0.0,>=3.8.0 in ./env/lib/python3.12/site-packages (from levenshtein~=0.25->automatic_matching==0.1.1) (3.9.3)\n"
     ]
    }
   ],
   "source": [
    "!pip install git+https://github.com/TracingThePast/automatic_matching"
   ]
  },
  {
   "cell_type": "code",
   "execution_count": 2,
   "id": "bc33a0bc",
   "metadata": {},
   "outputs": [],
   "source": [
    "from IPython.display import HTML, display\n",
    "from automatic_matching import get_matching_score, get_results_as_html, match_date_against_local_date, split_string_values"
   ]
  },
  {
   "cell_type": "markdown",
   "id": "5a156bde",
   "metadata": {},
   "source": [
    "## Ablauf:\n",
    "\n",
    "Die Felder `forenames`, `surnames`, `birth_place` und `death_place` werden soweit es geht in ihre einzelnen Bestandteile zerlegt, das heißt die Aneinanderreihung von Namen `Anna, Anne Anneliese` wird zerlegt in `['Anna', 'Anne', 'Anneliese']` damit die einzelnen Namen jeweils direkt verglichen werden können. Beim Vergleichen wird dann immer das Wertepaar ausgewählt, welches die geringste Levenshtein Distanz aufweist. Abschließend wird aus dem Satz der Minimaldistanzen aller möglichen Paare der Mittelwert berechnet. "
   ]
  },
  {
   "cell_type": "code",
   "execution_count": 11,
   "id": "3ba4b26c",
   "metadata": {},
   "outputs": [
    {
     "data": {
      "text/html": [
       "<table><tr style=\"text-align: center;\"><th style=\"text-align: center;\">Score</th><th style=\"text-align: center;\">Surname</th><th style=\"text-align: center;\">Forename</th><th style=\"text-align: center;\">Birth date</th><th style=\"text-align: center;\">Birth place</th><th style=\"text-align: center;\">Death date</th><th style=\"text-align: center;\">Death place</th></tr><tr><td class=\"comparison\" style=\"background-color: transparent; color: #000; min-width: 120px; max-width: 140px; vertical-align: bottom;\"><div style=\"display: flex; flex-wrap: nowrap; flex-direction: column; align-items: stretch; border-radius: 4px; overflow: hidden; border: 1px solid #ccc;\"><div style=\"padding: 4px 6px; text-align: center;\">Meets criteria: ✅︎</div><div style=\"white-space:nowrap; border-top: 2px solid #ccc; background-color: #888; text-align: center; overflow: hidden;\">\n",
       "        <svg xmlns=\"http://www.w3.org/2000/svg\" style=\"width: 100%; min-height: 16px; margin-bottom: -3px;\" viewBox=\"-100 0 200 30\" ><line x1=\"-100\" y1=\"15\" x2=\"73.41890120776159\" y2=\"15\" stroke-width=\"30\" stroke=\"rgb(82.31180146127994, 199.45495364316736, 0)\"/><text text-anchor=\"middle\" x=\"0\" y=\"21\" font-size=\"16\" font-weight=\"bold\">69.37 / 80 (86.71 %)</text></svg></div><div style=\"white-space:nowrap; border-top: 2px solid #ccc; background-color: #888; text-align: center; overflow: hidden;\">\n",
       "        <svg xmlns=\"http://www.w3.org/2000/svg\" style=\"width: 100%; min-height: 16px; margin-bottom: -3px;\" viewBox=\"-100 0 200 30\" ><line x1=\"0\" y1=\"0\" x2=\"0\" y2=\"30\" stroke-width=\"2\" stroke=\"#000\"/><line x1=\"69.36756048310464\" y1=\"15\" x2=\"0\" y2=\"15\" stroke-width=\"30\" stroke=\"rgb(124.47353979553603, 197.09879423702264, 0)\"/><text text-anchor=\"end\" x=\"-4\" y=\"21\" font-size=\"16\" font-weight=\"bold\"> 69.37 / 80 </text></svg></div></div></td><td class=\"comparison\" style=\"background-color: transparent; color: #000; min-width: 120px; max-width: 140px; vertical-align: bottom;\"><div style=\"display: flex; flex-wrap: nowrap; flex-direction: column; align-items: stretch; border-radius: 4px; overflow: hidden; border: 1px solid #ccc;\"><div style=\"padding: 4px 6px;\">glasner (0), lovi (0) [1.00]</div><div style=\"background-color: rgba(0, 169, 176, 0.3); padding: 4px 6px;\">glasner (0), lovi (0) [1.00]</div><div style=\"white-space:nowrap; border-top: 2px solid #ccc; background-color: #888; text-align: center; overflow: hidden;\">\n",
       "        <svg xmlns=\"http://www.w3.org/2000/svg\" style=\"width: 100%; min-height: 16px; margin-bottom: -3px;\" viewBox=\"-100 0 200 30\" ><line x1=\"0\" y1=\"0\" x2=\"0\" y2=\"30\" stroke-width=\"2\" stroke=\"#000\"/><line x1=\"100.0\" y1=\"15\" x2=\"0\" y2=\"15\" stroke-width=\"30\" stroke=\"rgb(1.9954029431991503e-06, 200.0, 0)\"/><text text-anchor=\"end\" x=\"-4\" y=\"21\" font-size=\"16\" font-weight=\"bold\"> 25.00 / 25 </text></svg></div></div></td><td class=\"comparison\" style=\"background-color: transparent; color: #000; min-width: 120px; max-width: 140px; vertical-align: bottom;\"><div style=\"display: flex; flex-wrap: nowrap; flex-direction: column; align-items: stretch; border-radius: 4px; overflow: hidden; border: 1px solid #ccc;\"><div style=\"padding: 4px 6px;\">grete (0.20) [0.81]</div><div style=\"background-color: rgba(0, 169, 176, 0.3); padding: 4px 6px;\">margarete (0.20) [0.81]</div><div style=\"white-space:nowrap; border-top: 2px solid #ccc; background-color: #888; text-align: center; overflow: hidden;\">\n",
       "        <svg xmlns=\"http://www.w3.org/2000/svg\" style=\"width: 100%; min-height: 16px; margin-bottom: -3px;\" viewBox=\"-100 0 200 30\" ><line x1=\"0\" y1=\"0\" x2=\"0\" y2=\"30\" stroke-width=\"2\" stroke=\"#000\"/><line x1=\"80.90169943749474\" y1=\"15\" x2=\"0\" y2=\"15\" stroke-width=\"30\" stroke=\"rgb(98.57518351695865, 198.87397229034008, 0)\"/><text text-anchor=\"end\" x=\"-4\" y=\"21\" font-size=\"16\" font-weight=\"bold\"> 20.23 / 25 </text></svg></div></div></td><td class=\"comparison\" style=\"background-color: transparent; color: #000; min-width: 120px; max-width: 140px; vertical-align: bottom;\"><div style=\"display: flex; flex-wrap: nowrap; flex-direction: column; align-items: stretch; border-radius: 4px; overflow: hidden; border: 1px solid #ccc;\"><div style=\"padding: 4px 6px;\">1897-09-09</div><div style=\"background-color: rgba(0, 169, 176, 0.3); padding: 4px 6px;\">1891-09-09</div><div style=\"white-space:nowrap; border-top: 2px solid #ccc; background-color: #888; text-align: center; overflow: hidden;\">\n",
       "        <svg xmlns=\"http://www.w3.org/2000/svg\" style=\"width: 100%; min-height: 16px; margin-bottom: -3px;\" viewBox=\"-100 0 200 30\" ><line x1=\"0\" y1=\"0\" x2=\"0\" y2=\"30\" stroke-width=\"2\" stroke=\"#000\"/><line x1=\"70.71067811865476\" y1=\"15\" x2=\"0\" y2=\"15\" stroke-width=\"30\" stroke=\"rgb(121.76465591691688, 197.34819762463817, 0)\"/><text text-anchor=\"end\" x=\"-4\" y=\"21\" font-size=\"16\" font-weight=\"bold\"> 14.14 / 20 </text></svg></div></div></td><td class=\"comparison\" style=\"background-color: transparent; color: #000; min-width: 120px; max-width: 140px; vertical-align: bottom;\"><div style=\"display: flex; flex-wrap: nowrap; flex-direction: column; align-items: stretch; border-radius: 4px; overflow: hidden; border: 1px solid #ccc;\"><div style=\"padding: 4px 6px;\">munchen (0), bavaria (1.00) [-0.50]</div><div style=\"background-color: rgba(0, 169, 176, 0.3); padding: 4px 6px;\">munchen (0) [1.00]</div><div style=\"white-space:nowrap; border-top: 2px solid #ccc; background-color: #888; text-align: center; overflow: hidden;\">\n",
       "        <svg xmlns=\"http://www.w3.org/2000/svg\" style=\"width: 100%; min-height: 16px; margin-bottom: -3px;\" viewBox=\"-100 0 200 30\" ><line x1=\"0\" y1=\"0\" x2=\"0\" y2=\"30\" stroke-width=\"2\" stroke=\"#000\"/><line x1=\"100.0\" y1=\"15\" x2=\"0\" y2=\"15\" stroke-width=\"30\" stroke=\"rgb(1.9954029431991503e-06, 200.0, 0)\"/><text text-anchor=\"end\" x=\"-4\" y=\"21\" font-size=\"16\" font-weight=\"bold\"> 10.00 / 10 </text></svg></div></div></td><td class=\"comparison\" style=\"background-color: #555; color: #fff; min-width: 120px; max-width: 140px; vertical-align: bottom;\"><div style=\"display: flex; flex-wrap: nowrap; flex-direction: column; align-items: stretch; border-radius: 4px; overflow: hidden; border: 1px solid #ccc;\"><div style=\"padding: 4px 6px;\">-</div><div style=\"background-color: rgba(0, 169, 176, 0.3); padding: 4px 6px;\">1941-12-11</div><div style=\"white-space:nowrap; border-top: 2px solid #ccc; background-color: #888; text-align: center; overflow: hidden;\">\n",
       "        <svg xmlns=\"http://www.w3.org/2000/svg\" style=\"width: 100%; min-height: 16px; margin-bottom: -3px;\" viewBox=\"-100 0 200 30\" ><line x1=\"0\" y1=\"0\" x2=\"0\" y2=\"30\" stroke-width=\"2\" stroke=\"#000\"/><text text-anchor=\"end\" x=\"-4\" y=\"21\" font-size=\"16\" font-weight=\"bold\"> - / 10 </text></svg></div></div></td><td class=\"comparison\" style=\"background-color: #555; color: #fff; min-width: 120px; max-width: 140px; vertical-align: bottom;\"><div style=\"display: flex; flex-wrap: nowrap; flex-direction: column; align-items: stretch; border-radius: 4px; overflow: hidden; border: 1px solid #ccc;\"><div style=\"padding: 4px 6px;\">-</div><div style=\"background-color: rgba(0, 169, 176, 0.3); padding: 4px 6px;\">-</div><div style=\"white-space:nowrap; border-top: 2px solid #ccc; background-color: #888; text-align: center; overflow: hidden;\">\n",
       "        <svg xmlns=\"http://www.w3.org/2000/svg\" style=\"width: 100%; min-height: 16px; margin-bottom: -3px;\" viewBox=\"-100 0 200 30\" ><line x1=\"0\" y1=\"0\" x2=\"0\" y2=\"30\" stroke-width=\"2\" stroke=\"#000\"/><text text-anchor=\"end\" x=\"-4\" y=\"21\" font-size=\"16\" font-weight=\"bold\"> - / 10 </text></svg></div></div></td></tr><tr><td class=\"comparison\" style=\"background-color: transparent; color: #000; min-width: 120px; max-width: 140px; vertical-align: bottom;\"><div style=\"display: flex; flex-wrap: nowrap; flex-direction: column; align-items: stretch; border-radius: 4px; overflow: hidden; border: 1px solid #ccc;\"><div style=\"padding: 4px 6px; text-align: center;\">Meets criteria: ✅︎</div><div style=\"white-space:nowrap; border-top: 2px solid #ccc; background-color: #888; text-align: center; overflow: hidden;\">\n",
       "        <svg xmlns=\"http://www.w3.org/2000/svg\" style=\"width: 100%; min-height: 16px; margin-bottom: -3px;\" viewBox=\"-100 0 200 30\" ><line x1=\"-100\" y1=\"15\" x2=\"63.323494447908445\" y2=\"15\" stroke-width=\"30\" stroke=\"rgb(96.60794026926538, 198.9618900117327, 0)\"/><text text-anchor=\"middle\" x=\"0\" y=\"21\" font-size=\"16\" font-weight=\"bold\">65.33 / 80 (81.66 %)</text></svg></div><div style=\"white-space:nowrap; border-top: 2px solid #ccc; background-color: #888; text-align: center; overflow: hidden;\">\n",
       "        <svg xmlns=\"http://www.w3.org/2000/svg\" style=\"width: 100%; min-height: 16px; margin-bottom: -3px;\" viewBox=\"-100 0 200 30\" ><line x1=\"0\" y1=\"0\" x2=\"0\" y2=\"30\" stroke-width=\"2\" stroke=\"#000\"/><line x1=\"65.32939777916337\" y1=\"15\" x2=\"0\" y2=\"15\" stroke-width=\"30\" stroke=\"rgb(132.24389284619056, 196.28084512633427, 0)\"/><text text-anchor=\"end\" x=\"-4\" y=\"21\" font-size=\"16\" font-weight=\"bold\"> 65.33 / 80 </text></svg></div></div></td><td class=\"comparison\" style=\"background-color: transparent; color: #000; min-width: 120px; max-width: 140px; vertical-align: bottom;\"><div style=\"display: flex; flex-wrap: nowrap; flex-direction: column; align-items: stretch; border-radius: 4px; overflow: hidden; border: 1px solid #ccc;\"><div style=\"padding: 4px 6px;\">glasner (0), lovi (0), abeles (1.00) [-0.17]</div><div style=\"background-color: rgba(0, 169, 176, 0.3); padding: 4px 6px;\">glasner (0), lovi (0) [1.00]</div><div style=\"white-space:nowrap; border-top: 2px solid #ccc; background-color: #888; text-align: center; overflow: hidden;\">\n",
       "        <svg xmlns=\"http://www.w3.org/2000/svg\" style=\"width: 100%; min-height: 16px; margin-bottom: -3px;\" viewBox=\"-100 0 200 30\" ><line x1=\"0\" y1=\"0\" x2=\"0\" y2=\"30\" stroke-width=\"2\" stroke=\"#000\"/><line x1=\"41.317591116653496\" y1=\"15\" x2=\"0\" y2=\"15\" stroke-width=\"30\" stroke=\"rgb(170.057647572016, 189.2782902615676, 0)\"/><text text-anchor=\"end\" x=\"-4\" y=\"21\" font-size=\"16\" font-weight=\"bold\"> 10.33 / 25 </text></svg></div></div></td><td class=\"comparison\" style=\"background-color: transparent; color: #000; min-width: 120px; max-width: 140px; vertical-align: bottom;\"><div style=\"display: flex; flex-wrap: nowrap; flex-direction: column; align-items: stretch; border-radius: 4px; overflow: hidden; border: 1px solid #ccc;\"><div style=\"padding: 4px 6px;\">margarete (0) [1.00]</div><div style=\"background-color: rgba(0, 169, 176, 0.3); padding: 4px 6px;\">margarete (0) [1.00]</div><div style=\"white-space:nowrap; border-top: 2px solid #ccc; background-color: #888; text-align: center; overflow: hidden;\">\n",
       "        <svg xmlns=\"http://www.w3.org/2000/svg\" style=\"width: 100%; min-height: 16px; margin-bottom: -3px;\" viewBox=\"-100 0 200 30\" ><line x1=\"0\" y1=\"0\" x2=\"0\" y2=\"30\" stroke-width=\"2\" stroke=\"#000\"/><line x1=\"100.0\" y1=\"15\" x2=\"0\" y2=\"15\" stroke-width=\"30\" stroke=\"rgb(1.9954029431991503e-06, 200.0, 0)\"/><text text-anchor=\"end\" x=\"-4\" y=\"21\" font-size=\"16\" font-weight=\"bold\"> 25.00 / 25 </text></svg></div></div></td><td class=\"comparison\" style=\"background-color: transparent; color: #000; min-width: 120px; max-width: 140px; vertical-align: bottom;\"><div style=\"display: flex; flex-wrap: nowrap; flex-direction: column; align-items: stretch; border-radius: 4px; overflow: hidden; border: 1px solid #ccc;\"><div style=\"padding: 4px 6px;\">1891-09-09</div><div style=\"background-color: rgba(0, 169, 176, 0.3); padding: 4px 6px;\">1891-09-09</div><div style=\"white-space:nowrap; border-top: 2px solid #ccc; background-color: #888; text-align: center; overflow: hidden;\">\n",
       "        <svg xmlns=\"http://www.w3.org/2000/svg\" style=\"width: 100%; min-height: 16px; margin-bottom: -3px;\" viewBox=\"-100 0 200 30\" ><line x1=\"0\" y1=\"0\" x2=\"0\" y2=\"30\" stroke-width=\"2\" stroke=\"#000\"/><line x1=\"100.0\" y1=\"15\" x2=\"0\" y2=\"15\" stroke-width=\"30\" stroke=\"rgb(1.9954029431991503e-06, 200.0, 0)\"/><text text-anchor=\"end\" x=\"-4\" y=\"21\" font-size=\"16\" font-weight=\"bold\"> 20.00 / 20 </text></svg></div></div></td><td class=\"comparison\" style=\"background-color: transparent; color: #000; min-width: 120px; max-width: 140px; vertical-align: bottom;\"><div style=\"display: flex; flex-wrap: nowrap; flex-direction: column; align-items: stretch; border-radius: 4px; overflow: hidden; border: 1px solid #ccc;\"><div style=\"padding: 4px 6px;\">munchen (0), bavaria (1.00) [-0.50]</div><div style=\"background-color: rgba(0, 169, 176, 0.3); padding: 4px 6px;\">munchen (0) [1.00]</div><div style=\"white-space:nowrap; border-top: 2px solid #ccc; background-color: #888; text-align: center; overflow: hidden;\">\n",
       "        <svg xmlns=\"http://www.w3.org/2000/svg\" style=\"width: 100%; min-height: 16px; margin-bottom: -3px;\" viewBox=\"-100 0 200 30\" ><line x1=\"0\" y1=\"0\" x2=\"0\" y2=\"30\" stroke-width=\"2\" stroke=\"#000\"/><line x1=\"100.0\" y1=\"15\" x2=\"0\" y2=\"15\" stroke-width=\"30\" stroke=\"rgb(1.9954029431991503e-06, 200.0, 0)\"/><text text-anchor=\"end\" x=\"-4\" y=\"21\" font-size=\"16\" font-weight=\"bold\"> 10.00 / 10 </text></svg></div></div></td><td class=\"comparison\" style=\"background-color: #555; color: #fff; min-width: 120px; max-width: 140px; vertical-align: bottom;\"><div style=\"display: flex; flex-wrap: nowrap; flex-direction: column; align-items: stretch; border-radius: 4px; overflow: hidden; border: 1px solid #ccc;\"><div style=\"padding: 4px 6px;\">-</div><div style=\"background-color: rgba(0, 169, 176, 0.3); padding: 4px 6px;\">1941-12-11</div><div style=\"white-space:nowrap; border-top: 2px solid #ccc; background-color: #888; text-align: center; overflow: hidden;\">\n",
       "        <svg xmlns=\"http://www.w3.org/2000/svg\" style=\"width: 100%; min-height: 16px; margin-bottom: -3px;\" viewBox=\"-100 0 200 30\" ><line x1=\"0\" y1=\"0\" x2=\"0\" y2=\"30\" stroke-width=\"2\" stroke=\"#000\"/><text text-anchor=\"end\" x=\"-4\" y=\"21\" font-size=\"16\" font-weight=\"bold\"> - / 10 </text></svg></div></div></td><td class=\"comparison\" style=\"background-color: #555; color: #fff; min-width: 120px; max-width: 140px; vertical-align: bottom;\"><div style=\"display: flex; flex-wrap: nowrap; flex-direction: column; align-items: stretch; border-radius: 4px; overflow: hidden; border: 1px solid #ccc;\"><div style=\"padding: 4px 6px;\">-</div><div style=\"background-color: rgba(0, 169, 176, 0.3); padding: 4px 6px;\">-</div><div style=\"white-space:nowrap; border-top: 2px solid #ccc; background-color: #888; text-align: center; overflow: hidden;\">\n",
       "        <svg xmlns=\"http://www.w3.org/2000/svg\" style=\"width: 100%; min-height: 16px; margin-bottom: -3px;\" viewBox=\"-100 0 200 30\" ><line x1=\"0\" y1=\"0\" x2=\"0\" y2=\"30\" stroke-width=\"2\" stroke=\"#000\"/><text text-anchor=\"end\" x=\"-4\" y=\"21\" font-size=\"16\" font-weight=\"bold\"> - / 10 </text></svg></div></div></td></tr></body></table>"
      ],
      "text/plain": [
       "<IPython.core.display.HTML object>"
      ]
     },
     "metadata": {},
     "output_type": "display_data"
    }
   ],
   "source": [
    "\n",
    "\n",
    "local_test_data = {\n",
    "    'forenames': ['Margarethe', 'Margarete'],\n",
    "    'surnames': ['Glaessner', 'Glässner', 'Loewy'],\n",
    "    'birth_place': ['München'],\n",
    "    'birth_date': ['1891-09-09'],\n",
    "    #'death_place': ['Dachau'],\n",
    "    'death_date': ['1941-12-11'],\n",
    "}\n",
    "\n",
    "external_test_data_sets = [\n",
    "    {\n",
    "        'forenames': ['Margarete'],\n",
    "        'surnames': ['Glaessner', 'Loewy', 'Abeles'],\n",
    "        'birth_place': ['München', 'Bavaria'],\n",
    "        'birth_date': ['1891-09-09'],\n",
    "        #'death_place': ['Auschwitz'],\n",
    "        #'death_date': ['1941-11-11'],\n",
    "    },\n",
    "    {\n",
    "        'forenames': ['Grete'],\n",
    "        'surnames': ['Glaessner', 'Loewy',],\n",
    "        'birth_place': ['München', 'Bavaria'],\n",
    "        'birth_date': ['1897-09-09'],\n",
    "        #'death_place': ['Auschwitz'],\n",
    "        #'death_date': ['1941-11-11'],\n",
    "    }\n",
    "]\n",
    "\n",
    "results = []\n",
    "for external_test_data in external_test_data_sets:\n",
    "    results.append(get_matching_score(local_test_data, external_test_data))\n",
    "\n",
    "results = sorted(results, key=lambda d: (d['absolute_score'], d['relative_score']))\n",
    "results.reverse()\n",
    "\n",
    "\n",
    "output_html = get_results_as_html(results)\n",
    "\n",
    "display(HTML(output_html))"
   ]
  },
  {
   "cell_type": "code",
   "execution_count": 12,
   "id": "e1cae111-07a9-4abe-8b64-faff30188b5f",
   "metadata": {},
   "outputs": [
    {
     "data": {
      "text/html": [
       "<table><tr style=\"text-align: center;\"><th style=\"text-align: center;\">Score</th><th style=\"text-align: center;\">Surname</th><th style=\"text-align: center;\">Forename</th><th style=\"text-align: center;\">Birth date</th><th style=\"text-align: center;\">Birth place</th><th style=\"text-align: center;\">Death date</th><th style=\"text-align: center;\">Death place</th></tr><tr><td class=\"comparison\" style=\"background-color: transparent; color: #000; min-width: 120px; max-width: 140px; vertical-align: bottom;\"><div style=\"display: flex; flex-wrap: nowrap; flex-direction: column; align-items: stretch; border-radius: 4px; overflow: hidden; border: 1px solid #ccc;\"><div style=\"padding: 4px 6px; text-align: center;\">Meets criteria: ✅︎</div><div style=\"white-space:nowrap; border-top: 2px solid #ccc; background-color: #888; text-align: center; overflow: hidden;\">\n",
       "        <svg xmlns=\"http://www.w3.org/2000/svg\" style=\"width: 100%; min-height: 16px; margin-bottom: -3px;\" viewBox=\"-100 0 200 30\" ><line x1=\"-100\" y1=\"15\" x2=\"31.13567549105136\" y2=\"15\" stroke-width=\"30\" stroke=\"rgb(131.79958602634522, 196.3319869642324, 0)\"/><text text-anchor=\"middle\" x=\"0\" y=\"21\" font-size=\"16\" font-weight=\"bold\">65.57 / 100 (65.57 %)</text></svg></div><div style=\"white-space:nowrap; border-top: 2px solid #ccc; background-color: #888; text-align: center; overflow: hidden;\">\n",
       "        <svg xmlns=\"http://www.w3.org/2000/svg\" style=\"width: 100%; min-height: 16px; margin-bottom: -3px;\" viewBox=\"-100 0 200 30\" ><line x1=\"0\" y1=\"0\" x2=\"0\" y2=\"30\" stroke-width=\"2\" stroke=\"#000\"/><line x1=\"65.56783774552568\" y1=\"15\" x2=\"0\" y2=\"15\" stroke-width=\"30\" stroke=\"rgb(131.79958602634522, 196.3319869642324, 0)\"/><text text-anchor=\"end\" x=\"-4\" y=\"21\" font-size=\"16\" font-weight=\"bold\"> 65.57 / 100 </text></svg></div></div></td><td class=\"comparison\" style=\"background-color: transparent; color: #000; min-width: 120px; max-width: 140px; vertical-align: bottom;\"><div style=\"display: flex; flex-wrap: nowrap; flex-direction: column; align-items: stretch; border-radius: 4px; overflow: hidden; border: 1px solid #ccc;\"><div style=\"padding: 4px 6px;\">abrahams (0.27) [0.66]</div><div style=\"background-color: rgba(0, 169, 176, 0.3); padding: 4px 6px;\">abrehamson (0.27) [0.66]</div><div style=\"white-space:nowrap; border-top: 2px solid #ccc; background-color: #888; text-align: center; overflow: hidden;\">\n",
       "        <svg xmlns=\"http://www.w3.org/2000/svg\" style=\"width: 100%; min-height: 16px; margin-bottom: -3px;\" viewBox=\"-100 0 200 30\" ><line x1=\"0\" y1=\"0\" x2=\"0\" y2=\"30\" stroke-width=\"2\" stroke=\"#000\"/><line x1=\"65.93458151000691\" y1=\"15\" x2=\"0\" y2=\"15\" stroke-width=\"30\" stroke=\"rgb(131.11280733346229, 196.40995029090996, 0)\"/><text text-anchor=\"end\" x=\"-4\" y=\"21\" font-size=\"16\" font-weight=\"bold\"> 16.48 / 25 </text></svg></div></div></td><td class=\"comparison\" style=\"background-color: transparent; color: #000; min-width: 120px; max-width: 140px; vertical-align: bottom;\"><div style=\"display: flex; flex-wrap: nowrap; flex-direction: column; align-items: stretch; border-radius: 4px; overflow: hidden; border: 1px solid #ccc;\"><div style=\"padding: 4px 6px;\">alexander (0.25) [0.71]</div><div style=\"background-color: rgba(0, 169, 176, 0.3); padding: 4px 6px;\">alex (0.25) [0.71]</div><div style=\"white-space:nowrap; border-top: 2px solid #ccc; background-color: #888; text-align: center; overflow: hidden;\">\n",
       "        <svg xmlns=\"http://www.w3.org/2000/svg\" style=\"width: 100%; min-height: 16px; margin-bottom: -3px;\" viewBox=\"-100 0 200 30\" ><line x1=\"0\" y1=\"0\" x2=\"0\" y2=\"30\" stroke-width=\"2\" stroke=\"#000\"/><line x1=\"70.71067811865476\" y1=\"15\" x2=\"0\" y2=\"15\" stroke-width=\"30\" stroke=\"rgb(121.76465591691688, 197.34819762463817, 0)\"/><text text-anchor=\"end\" x=\"-4\" y=\"21\" font-size=\"16\" font-weight=\"bold\"> 17.68 / 25 </text></svg></div></div></td><td class=\"comparison\" style=\"background-color: transparent; color: #000; min-width: 120px; max-width: 140px; vertical-align: bottom;\"><div style=\"display: flex; flex-wrap: nowrap; flex-direction: column; align-items: stretch; border-radius: 4px; overflow: hidden; border: 1px solid #ccc;\"><div style=\"padding: 4px 6px;\">1932-02-01</div><div style=\"background-color: rgba(0, 169, 176, 0.3); padding: 4px 6px;\">1923-02-01</div><div style=\"white-space:nowrap; border-top: 2px solid #ccc; background-color: #888; text-align: center; overflow: hidden;\">\n",
       "        <svg xmlns=\"http://www.w3.org/2000/svg\" style=\"width: 100%; min-height: 16px; margin-bottom: -3px;\" viewBox=\"-100 0 200 30\" ><line x1=\"0\" y1=\"0\" x2=\"0\" y2=\"30\" stroke-width=\"2\" stroke=\"#000\"/><line x1=\"92.38795325112868\" y1=\"15\" x2=\"0\" y2=\"15\" stroke-width=\"30\" stroke=\"rgb(62.33134142125057, 199.82126178888868, 0)\"/><text text-anchor=\"end\" x=\"-4\" y=\"21\" font-size=\"16\" font-weight=\"bold\"> 18.48 / 20 </text></svg></div></div></td><td class=\"comparison\" style=\"background-color: transparent; color: #000; min-width: 120px; max-width: 140px; vertical-align: bottom;\"><div style=\"display: flex; flex-wrap: nowrap; flex-direction: column; align-items: stretch; border-radius: 4px; overflow: hidden; border: 1px solid #ccc;\"><div style=\"padding: 4px 6px;\">munchen (0), bavaria (1.00) [-0.50]</div><div style=\"background-color: rgba(0, 169, 176, 0.3); padding: 4px 6px;\">munchen (0) [1.00]</div><div style=\"white-space:nowrap; border-top: 2px solid #ccc; background-color: #888; text-align: center; overflow: hidden;\">\n",
       "        <svg xmlns=\"http://www.w3.org/2000/svg\" style=\"width: 100%; min-height: 16px; margin-bottom: -3px;\" viewBox=\"-100 0 200 30\" ><line x1=\"0\" y1=\"0\" x2=\"0\" y2=\"30\" stroke-width=\"2\" stroke=\"#000\"/><line x1=\"100.0\" y1=\"15\" x2=\"0\" y2=\"15\" stroke-width=\"30\" stroke=\"rgb(1.9954029431991503e-06, 200.0, 0)\"/><text text-anchor=\"end\" x=\"-4\" y=\"21\" font-size=\"16\" font-weight=\"bold\"> 10.00 / 10 </text></svg></div></div></td><td class=\"comparison\" style=\"background-color: transparent; color: #000; min-width: 120px; max-width: 140px; vertical-align: bottom;\"><div style=\"display: flex; flex-wrap: nowrap; flex-direction: column; align-items: stretch; border-radius: 4px; overflow: hidden; border: 1px solid #ccc;\"><div style=\"padding: 4px 6px;\">1943-02-02</div><div style=\"background-color: rgba(0, 169, 176, 0.3); padding: 4px 6px;\">1942-01-01</div><div style=\"white-space:nowrap; border-top: 2px solid #ccc; background-color: #888; text-align: center; overflow: hidden;\">\n",
       "        <svg xmlns=\"http://www.w3.org/2000/svg\" style=\"width: 100%; min-height: 16px; margin-bottom: -3px;\" viewBox=\"-100 0 200 30\" ><line x1=\"0\" y1=\"0\" x2=\"0\" y2=\"30\" stroke-width=\"2\" stroke=\"#000\"/><line x1=\"-70.71067811865474\" y1=\"15\" x2=\"0\" y2=\"15\" stroke-width=\"30\" stroke=\"rgb(251.61895197141368, 95.50169091522892, 0)\"/><text text-anchor=\"start\" x=\"4\" y=\"21\" font-size=\"16\" font-weight=\"bold\"> -7.07 / 10 </text></svg></div></div></td><td class=\"comparison\" style=\"background-color: transparent; color: #000; min-width: 120px; max-width: 140px; vertical-align: bottom;\"><div style=\"display: flex; flex-wrap: nowrap; flex-direction: column; align-items: stretch; border-radius: 4px; overflow: hidden; border: 1px solid #ccc;\"><div style=\"padding: 4px 6px;\">dachau (0) [1.00]</div><div style=\"background-color: rgba(0, 169, 176, 0.3); padding: 4px 6px;\">dachau (0) [1.00]</div><div style=\"white-space:nowrap; border-top: 2px solid #ccc; background-color: #888; text-align: center; overflow: hidden;\">\n",
       "        <svg xmlns=\"http://www.w3.org/2000/svg\" style=\"width: 100%; min-height: 16px; margin-bottom: -3px;\" viewBox=\"-100 0 200 30\" ><line x1=\"0\" y1=\"0\" x2=\"0\" y2=\"30\" stroke-width=\"2\" stroke=\"#000\"/><line x1=\"100.0\" y1=\"15\" x2=\"0\" y2=\"15\" stroke-width=\"30\" stroke=\"rgb(1.9954029431991503e-06, 200.0, 0)\"/><text text-anchor=\"end\" x=\"-4\" y=\"21\" font-size=\"16\" font-weight=\"bold\"> 10.00 / 10 </text></svg></div></div></td></tr></body></table>"
      ],
      "text/plain": [
       "<IPython.core.display.HTML object>"
      ]
     },
     "metadata": {},
     "output_type": "display_data"
    }
   ],
   "source": [
    "\n",
    "\n",
    "local_test_data = {\n",
    "    'forenames': ['Alex'],\n",
    "    'surnames': ['abrehamsohn'],\n",
    "    'birth_place': ['München'],\n",
    "    'birth_date': ['1923-02-01'],\n",
    "    'death_place': ['Dachau'],\n",
    "    'death_date': ['1942-01-01'],\n",
    "}\n",
    "\n",
    "external_test_data = {\n",
    "    'forenames': ['Alexander'],\n",
    "    'surnames': ['abrahams'],\n",
    "    'birth_place': ['München', 'Bavaria'],\n",
    "    'birth_date': ['1932-02-01'],\n",
    "    'death_place': ['Dachau'],\n",
    "    'death_date': ['1943-02-02'],\n",
    "}\n",
    "\n",
    "result = get_matching_score(local_test_data, external_test_data)\n",
    "\n",
    "output_html = get_results_as_html(result)\n",
    "\n",
    "display(HTML(output_html))"
   ]
  }
 ],
 "metadata": {
  "kernelspec": {
   "display_name": "Python 3 (ipykernel)",
   "language": "python",
   "name": "python3"
  },
  "language_info": {
   "codemirror_mode": {
    "name": "ipython",
    "version": 3
   },
   "file_extension": ".py",
   "mimetype": "text/x-python",
   "name": "python",
   "nbconvert_exporter": "python",
   "pygments_lexer": "ipython3",
   "version": "3.12.3"
  }
 },
 "nbformat": 4,
 "nbformat_minor": 5
}
