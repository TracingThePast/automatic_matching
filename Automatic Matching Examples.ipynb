{
 "cells": [
  {
   "cell_type": "code",
   "execution_count": 1,
   "id": "c418bcd4",
   "metadata": {},
   "outputs": [
    {
     "name": "stdout",
     "output_type": "stream",
     "text": [
      "Collecting git+https://github.com/TracingThePast/automatic_matching\n",
      "  Cloning https://github.com/TracingThePast/automatic_matching to /private/var/folders/99/chbgg_5s3tn77pkyp7wp3_bm0000gn/T/pip-req-build-8f4083in\n",
      "  Running command git clone --filter=blob:none --quiet https://github.com/TracingThePast/automatic_matching /private/var/folders/99/chbgg_5s3tn77pkyp7wp3_bm0000gn/T/pip-req-build-8f4083in\n",
      "  Resolved https://github.com/TracingThePast/automatic_matching to commit 12818379a4c891d743a0df29f95fa2058d729ef3\n",
      "  Installing build dependencies ... \u001b[?25ldone\n",
      "\u001b[?25h  Getting requirements to build wheel ... \u001b[?25ldone\n",
      "\u001b[?25h  Installing backend dependencies ... \u001b[?25ldone\n",
      "\u001b[?25h  Preparing metadata (pyproject.toml) ... \u001b[?25ldone\n",
      "\u001b[?25hRequirement already satisfied: levenshtein~=0.25 in ./env/lib/python3.12/site-packages (from automatic_matching==0.1.1) (0.25.1)\n",
      "Requirement already satisfied: numpy~=1.26 in ./env/lib/python3.12/site-packages (from automatic_matching==0.1.1) (1.26.4)\n",
      "Requirement already satisfied: rapidfuzz<4.0.0,>=3.8.0 in ./env/lib/python3.12/site-packages (from levenshtein~=0.25->automatic_matching==0.1.1) (3.9.3)\n"
     ]
    }
   ],
   "source": [
    "!pip install git+https://github.com/TracingThePast/automatic_matching"
   ]
  },
  {
   "cell_type": "code",
   "execution_count": 1,
   "id": "bc33a0bc",
   "metadata": {},
   "outputs": [],
   "source": [
    "from IPython.display import HTML, display\n",
    "from automatic_matching import get_matching_score, get_results_as_html, match_date_against_local_date, split_string_values"
   ]
  },
  {
   "cell_type": "markdown",
   "id": "5a156bde",
   "metadata": {},
   "source": [
    "## Ablauf:\n",
    "\n",
    "Die Felder `forenames`, `surnames`, `birth_place` und `death_place` werden soweit es geht in ihre einzelnen Bestandteile zerlegt, das heißt die Aneinanderreihung von Namen `Anna, Anne Anneliese` wird zerlegt in `['Anna', 'Anne', 'Anneliese']` damit die einzelnen Namen jeweils direkt verglichen werden können. Beim Vergleichen wird dann immer das Wertepaar ausgewählt, welches die geringste Levenshtein Distanz aufweist. Abschließend wird aus dem Satz der Minimaldistanzen aller möglichen Paare der Mittelwert berechnet. "
   ]
  },
  {
   "cell_type": "code",
   "execution_count": 2,
   "id": "3ba4b26c",
   "metadata": {},
   "outputs": [
    {
     "data": {
      "text/html": [
       "<table><tr style=\"text-align: center;\"><th style=\"text-align: center;\">Score</th><th style=\"text-align: center;\">Surname</th><th style=\"text-align: center;\">Forename</th><th style=\"text-align: center;\">Birth date</th><th style=\"text-align: center;\">Birth place</th><th style=\"text-align: center;\">Death date</th><th style=\"text-align: center;\">Death place</th></tr><tr><td class=\"comparison\" style=\"background-color: transparent; color: #000; min-width: 120px; max-width: 140px; vertical-align: bottom;\"><div style=\"display: flex; flex-wrap: nowrap; flex-direction: column; align-items: stretch; border-radius: 4px; overflow: hidden; border: 1px solid #ccc;\"><div style=\"padding: 4px 6px; text-align: center;\">Meets criteria: ✅︎</div><div style=\"white-space:nowrap; border-top: 2px solid #ccc; background-color: #888; text-align: center; overflow: hidden;\">\n",
       "        <svg xmlns=\"http://www.w3.org/2000/svg\" style=\"width: 100%; min-height: 16px; margin-bottom: -3px;\" viewBox=\"-100 0 200 30\" ><line x1=\"-100\" y1=\"15\" x2=\"66.84689452468206\" y2=\"15\" stroke-width=\"30\" stroke=\"rgb(91.87946234388586, 199.15190115832564, 0)\"/><text text-anchor=\"middle\" x=\"0\" y=\"21\" font-size=\"16\" font-weight=\"bold\">66.74 / 80 (83.42 %)</text></svg></div><div style=\"white-space:nowrap; border-top: 2px solid #ccc; background-color: #888; text-align: center; overflow: hidden;\">\n",
       "        <svg xmlns=\"http://www.w3.org/2000/svg\" style=\"width: 100%; min-height: 16px; margin-bottom: -3px;\" viewBox=\"-100 0 200 30\" ><line x1=\"0\" y1=\"0\" x2=\"0\" y2=\"30\" stroke-width=\"2\" stroke=\"#000\"/><line x1=\"66.73875780987282\" y1=\"15\" x2=\"0\" y2=\"15\" stroke-width=\"30\" stroke=\"rgb(129.59221779567144, 196.57794540025398, 0)\"/><text text-anchor=\"end\" x=\"-4\" y=\"21\" font-size=\"16\" font-weight=\"bold\"> 66.74 / 80 </text></svg></div></div></td><td class=\"comparison\" style=\"background-color: transparent; color: #000; min-width: 120px; max-width: 140px; vertical-align: bottom;\"><div style=\"display: flex; flex-wrap: nowrap; flex-direction: column; align-items: stretch; border-radius: 4px; overflow: hidden; border: 1px solid #ccc;\"><div style=\"padding: 4px 6px;\">glasner (0), lovi (0) [1.00]</div><div style=\"background-color: rgba(0, 169, 176, 0.3); padding: 4px 6px;\">glasner (0), lovi (0) [1.00]</div><div style=\"white-space:nowrap; border-top: 2px solid #ccc; background-color: #888; text-align: center; overflow: hidden;\">\n",
       "        <svg xmlns=\"http://www.w3.org/2000/svg\" style=\"width: 100%; min-height: 16px; margin-bottom: -3px;\" viewBox=\"-100 0 200 30\" ><line x1=\"0\" y1=\"0\" x2=\"0\" y2=\"30\" stroke-width=\"2\" stroke=\"#000\"/><line x1=\"99.98445910004081\" y1=\"15\" x2=\"0\" y2=\"15\" stroke-width=\"30\" stroke=\"rgb(2.817235828686952, 199.99999925509292, 0)\"/><text text-anchor=\"end\" x=\"-4\" y=\"21\" font-size=\"16\" font-weight=\"bold\"> 25.00 / 25 </text></svg></div></div></td><td class=\"comparison\" style=\"background-color: transparent; color: #000; min-width: 120px; max-width: 140px; vertical-align: bottom;\"><div style=\"display: flex; flex-wrap: nowrap; flex-direction: column; align-items: stretch; border-radius: 4px; overflow: hidden; border: 1px solid #ccc;\"><div style=\"padding: 4px 6px;\">grete (0.20) [0.81]</div><div style=\"background-color: rgba(0, 169, 176, 0.3); padding: 4px 6px;\">margarete (0.20) [0.60]</div><div style=\"white-space:nowrap; border-top: 2px solid #ccc; background-color: #888; text-align: center; overflow: hidden;\">\n",
       "        <svg xmlns=\"http://www.w3.org/2000/svg\" style=\"width: 100%; min-height: 16px; margin-bottom: -3px;\" viewBox=\"-100 0 200 30\" ><line x1=\"0\" y1=\"0\" x2=\"0\" y2=\"30\" stroke-width=\"2\" stroke=\"#000\"/><line x1=\"70.40202964452668\" y1=\"15\" x2=\"0\" y2=\"15\" stroke-width=\"30\" stroke=\"rgb(122.3930708927357, 197.29188360884504, 0)\"/><text text-anchor=\"end\" x=\"-4\" y=\"21\" font-size=\"16\" font-weight=\"bold\"> 17.60 / 25 </text></svg></div></div></td><td class=\"comparison\" style=\"background-color: transparent; color: #000; min-width: 120px; max-width: 140px; vertical-align: bottom;\"><div style=\"display: flex; flex-wrap: nowrap; flex-direction: column; align-items: stretch; border-radius: 4px; overflow: hidden; border: 1px solid #ccc;\"><div style=\"padding: 4px 6px;\">1897-09-09</div><div style=\"background-color: rgba(0, 169, 176, 0.3); padding: 4px 6px;\">1891-09-09</div><div style=\"white-space:nowrap; border-top: 2px solid #ccc; background-color: #888; text-align: center; overflow: hidden;\">\n",
       "        <svg xmlns=\"http://www.w3.org/2000/svg\" style=\"width: 100%; min-height: 16px; margin-bottom: -3px;\" viewBox=\"-100 0 200 30\" ><line x1=\"0\" y1=\"0\" x2=\"0\" y2=\"30\" stroke-width=\"2\" stroke=\"#000\"/><line x1=\"70.71067811865476\" y1=\"15\" x2=\"0\" y2=\"15\" stroke-width=\"30\" stroke=\"rgb(121.76465591691688, 197.34819762463817, 0)\"/><text text-anchor=\"end\" x=\"-4\" y=\"21\" font-size=\"16\" font-weight=\"bold\"> 14.14 / 20 </text></svg></div></div></td><td class=\"comparison\" style=\"background-color: transparent; color: #000; min-width: 120px; max-width: 140px; vertical-align: bottom;\"><div style=\"display: flex; flex-wrap: nowrap; flex-direction: column; align-items: stretch; border-radius: 4px; overflow: hidden; border: 1px solid #ccc;\"><div style=\"padding: 4px 6px;\">munchen (0), bavaria (1.00) [-0.50]</div><div style=\"background-color: rgba(0, 169, 176, 0.3); padding: 4px 6px;\">munchen (0) [1.00]</div><div style=\"white-space:nowrap; border-top: 2px solid #ccc; background-color: #888; text-align: center; overflow: hidden;\">\n",
       "        <svg xmlns=\"http://www.w3.org/2000/svg\" style=\"width: 100%; min-height: 16px; margin-bottom: -3px;\" viewBox=\"-100 0 200 30\" ><line x1=\"0\" y1=\"0\" x2=\"0\" y2=\"30\" stroke-width=\"2\" stroke=\"#000\"/><line x1=\"100.0\" y1=\"15\" x2=\"0\" y2=\"15\" stroke-width=\"30\" stroke=\"rgb(1.9954029431991503e-06, 200.0, 0)\"/><text text-anchor=\"end\" x=\"-4\" y=\"21\" font-size=\"16\" font-weight=\"bold\"> 10.00 / 10 </text></svg></div></div></td><td class=\"comparison\" style=\"background-color: #555; color: #fff; min-width: 120px; max-width: 140px; vertical-align: bottom;\"><div style=\"display: flex; flex-wrap: nowrap; flex-direction: column; align-items: stretch; border-radius: 4px; overflow: hidden; border: 1px solid #ccc;\"><div style=\"padding: 4px 6px;\">-</div><div style=\"background-color: rgba(0, 169, 176, 0.3); padding: 4px 6px;\">1941-12-11</div><div style=\"white-space:nowrap; border-top: 2px solid #ccc; background-color: #888; text-align: center; overflow: hidden;\">\n",
       "        <svg xmlns=\"http://www.w3.org/2000/svg\" style=\"width: 100%; min-height: 16px; margin-bottom: -3px;\" viewBox=\"-100 0 200 30\" ><line x1=\"0\" y1=\"0\" x2=\"0\" y2=\"30\" stroke-width=\"2\" stroke=\"#000\"/><text text-anchor=\"end\" x=\"-4\" y=\"21\" font-size=\"16\" font-weight=\"bold\"> - / 10 </text></svg></div></div></td><td class=\"comparison\" style=\"background-color: #555; color: #fff; min-width: 120px; max-width: 140px; vertical-align: bottom;\"><div style=\"display: flex; flex-wrap: nowrap; flex-direction: column; align-items: stretch; border-radius: 4px; overflow: hidden; border: 1px solid #ccc;\"><div style=\"padding: 4px 6px;\">-</div><div style=\"background-color: rgba(0, 169, 176, 0.3); padding: 4px 6px;\">-</div><div style=\"white-space:nowrap; border-top: 2px solid #ccc; background-color: #888; text-align: center; overflow: hidden;\">\n",
       "        <svg xmlns=\"http://www.w3.org/2000/svg\" style=\"width: 100%; min-height: 16px; margin-bottom: -3px;\" viewBox=\"-100 0 200 30\" ><line x1=\"0\" y1=\"0\" x2=\"0\" y2=\"30\" stroke-width=\"2\" stroke=\"#000\"/><text text-anchor=\"end\" x=\"-4\" y=\"21\" font-size=\"16\" font-weight=\"bold\"> - / 10 </text></svg></div></div></td></tr><tr><td class=\"comparison\" style=\"background-color: transparent; color: #000; min-width: 120px; max-width: 140px; vertical-align: bottom;\"><div style=\"display: flex; flex-wrap: nowrap; flex-direction: column; align-items: stretch; border-radius: 4px; overflow: hidden; border: 1px solid #ccc;\"><div style=\"padding: 4px 6px; text-align: center;\">Meets criteria: ✅︎</div><div style=\"white-space:nowrap; border-top: 2px solid #ccc; background-color: #888; text-align: center; overflow: hidden;\">\n",
       "        <svg xmlns=\"http://www.w3.org/2000/svg\" style=\"width: 100%; min-height: 16px; margin-bottom: -3px;\" viewBox=\"-100 0 200 30\" ><line x1=\"-100\" y1=\"15\" x2=\"66.83407411307437\" y2=\"15\" stroke-width=\"30\" stroke=\"rgb(91.89712514272286, 199.15124463807436, 0)\"/><text text-anchor=\"middle\" x=\"0\" y=\"21\" font-size=\"16\" font-weight=\"bold\">66.73 / 80 (83.42 %)</text></svg></div><div style=\"white-space:nowrap; border-top: 2px solid #ccc; background-color: #888; text-align: center; overflow: hidden;\">\n",
       "        <svg xmlns=\"http://www.w3.org/2000/svg\" style=\"width: 100%; min-height: 16px; margin-bottom: -3px;\" viewBox=\"-100 0 200 30\" ><line x1=\"0\" y1=\"0\" x2=\"0\" y2=\"30\" stroke-width=\"2\" stroke=\"#000\"/><line x1=\"66.73362964522974\" y1=\"15\" x2=\"0\" y2=\"15\" stroke-width=\"30\" stroke=\"rgb(129.60197924224667, 196.57688697934336, 0)\"/><text text-anchor=\"end\" x=\"-4\" y=\"21\" font-size=\"16\" font-weight=\"bold\"> 66.73 / 80 </text></svg></div></div></td><td class=\"comparison\" style=\"background-color: transparent; color: #000; min-width: 120px; max-width: 140px; vertical-align: bottom;\"><div style=\"display: flex; flex-wrap: nowrap; flex-direction: column; align-items: stretch; border-radius: 4px; overflow: hidden; border: 1px solid #ccc;\"><div style=\"padding: 4px 6px;\">glasner (0), lovi (0) [1.00]</div><div style=\"background-color: rgba(0, 169, 176, 0.3); padding: 4px 6px;\">glasner (0), lovi (0) [1.00]</div><div style=\"white-space:nowrap; border-top: 2px solid #ccc; background-color: #888; text-align: center; overflow: hidden;\">\n",
       "        <svg xmlns=\"http://www.w3.org/2000/svg\" style=\"width: 100%; min-height: 16px; margin-bottom: -3px;\" viewBox=\"-100 0 200 30\" ><line x1=\"0\" y1=\"0\" x2=\"0\" y2=\"30\" stroke-width=\"2\" stroke=\"#000\"/><line x1=\"99.96394644146847\" y1=\"15\" x2=\"0\" y2=\"15\" stroke-width=\"30\" stroke=\"rgb(4.291006639368714, 199.99999599090782, 0)\"/><text text-anchor=\"end\" x=\"-4\" y=\"21\" font-size=\"16\" font-weight=\"bold\"> 24.99 / 25 </text></svg></div></div></td><td class=\"comparison\" style=\"background-color: transparent; color: #000; min-width: 120px; max-width: 140px; vertical-align: bottom;\"><div style=\"display: flex; flex-wrap: nowrap; flex-direction: column; align-items: stretch; border-radius: 4px; overflow: hidden; border: 1px solid #ccc;\"><div style=\"padding: 4px 6px;\">grete (0.20) [0.81]</div><div style=\"background-color: rgba(0, 169, 176, 0.3); padding: 4px 6px;\">margarete (0.20) [0.60]</div><div style=\"white-space:nowrap; border-top: 2px solid #ccc; background-color: #888; text-align: center; overflow: hidden;\">\n",
       "        <svg xmlns=\"http://www.w3.org/2000/svg\" style=\"width: 100%; min-height: 16px; margin-bottom: -3px;\" viewBox=\"-100 0 200 30\" ><line x1=\"0\" y1=\"0\" x2=\"0\" y2=\"30\" stroke-width=\"2\" stroke=\"#000\"/><line x1=\"70.40202964452668\" y1=\"15\" x2=\"0\" y2=\"15\" stroke-width=\"30\" stroke=\"rgb(122.3930708927357, 197.29188360884504, 0)\"/><text text-anchor=\"end\" x=\"-4\" y=\"21\" font-size=\"16\" font-weight=\"bold\"> 17.60 / 25 </text></svg></div></div></td><td class=\"comparison\" style=\"background-color: transparent; color: #000; min-width: 120px; max-width: 140px; vertical-align: bottom;\"><div style=\"display: flex; flex-wrap: nowrap; flex-direction: column; align-items: stretch; border-radius: 4px; overflow: hidden; border: 1px solid #ccc;\"><div style=\"padding: 4px 6px;\">1897-09-09</div><div style=\"background-color: rgba(0, 169, 176, 0.3); padding: 4px 6px;\">1891-09-09</div><div style=\"white-space:nowrap; border-top: 2px solid #ccc; background-color: #888; text-align: center; overflow: hidden;\">\n",
       "        <svg xmlns=\"http://www.w3.org/2000/svg\" style=\"width: 100%; min-height: 16px; margin-bottom: -3px;\" viewBox=\"-100 0 200 30\" ><line x1=\"0\" y1=\"0\" x2=\"0\" y2=\"30\" stroke-width=\"2\" stroke=\"#000\"/><line x1=\"70.71067811865476\" y1=\"15\" x2=\"0\" y2=\"15\" stroke-width=\"30\" stroke=\"rgb(121.76465591691688, 197.34819762463817, 0)\"/><text text-anchor=\"end\" x=\"-4\" y=\"21\" font-size=\"16\" font-weight=\"bold\"> 14.14 / 20 </text></svg></div></div></td><td class=\"comparison\" style=\"background-color: transparent; color: #000; min-width: 120px; max-width: 140px; vertical-align: bottom;\"><div style=\"display: flex; flex-wrap: nowrap; flex-direction: column; align-items: stretch; border-radius: 4px; overflow: hidden; border: 1px solid #ccc;\"><div style=\"padding: 4px 6px;\">munchen (0), bavaria (1.00) [-0.50]</div><div style=\"background-color: rgba(0, 169, 176, 0.3); padding: 4px 6px;\">munchen (0) [1.00]</div><div style=\"white-space:nowrap; border-top: 2px solid #ccc; background-color: #888; text-align: center; overflow: hidden;\">\n",
       "        <svg xmlns=\"http://www.w3.org/2000/svg\" style=\"width: 100%; min-height: 16px; margin-bottom: -3px;\" viewBox=\"-100 0 200 30\" ><line x1=\"0\" y1=\"0\" x2=\"0\" y2=\"30\" stroke-width=\"2\" stroke=\"#000\"/><line x1=\"100.0\" y1=\"15\" x2=\"0\" y2=\"15\" stroke-width=\"30\" stroke=\"rgb(1.9954029431991503e-06, 200.0, 0)\"/><text text-anchor=\"end\" x=\"-4\" y=\"21\" font-size=\"16\" font-weight=\"bold\"> 10.00 / 10 </text></svg></div></div></td><td class=\"comparison\" style=\"background-color: #555; color: #fff; min-width: 120px; max-width: 140px; vertical-align: bottom;\"><div style=\"display: flex; flex-wrap: nowrap; flex-direction: column; align-items: stretch; border-radius: 4px; overflow: hidden; border: 1px solid #ccc;\"><div style=\"padding: 4px 6px;\">-</div><div style=\"background-color: rgba(0, 169, 176, 0.3); padding: 4px 6px;\">1941-12-11</div><div style=\"white-space:nowrap; border-top: 2px solid #ccc; background-color: #888; text-align: center; overflow: hidden;\">\n",
       "        <svg xmlns=\"http://www.w3.org/2000/svg\" style=\"width: 100%; min-height: 16px; margin-bottom: -3px;\" viewBox=\"-100 0 200 30\" ><line x1=\"0\" y1=\"0\" x2=\"0\" y2=\"30\" stroke-width=\"2\" stroke=\"#000\"/><text text-anchor=\"end\" x=\"-4\" y=\"21\" font-size=\"16\" font-weight=\"bold\"> - / 10 </text></svg></div></div></td><td class=\"comparison\" style=\"background-color: #555; color: #fff; min-width: 120px; max-width: 140px; vertical-align: bottom;\"><div style=\"display: flex; flex-wrap: nowrap; flex-direction: column; align-items: stretch; border-radius: 4px; overflow: hidden; border: 1px solid #ccc;\"><div style=\"padding: 4px 6px;\">auschviz {Auschwitz}</div><div style=\"background-color: rgba(0, 169, 176, 0.3); padding: 4px 6px;\">-</div><div style=\"white-space:nowrap; border-top: 2px solid #ccc; background-color: #888; text-align: center; overflow: hidden;\">\n",
       "        <svg xmlns=\"http://www.w3.org/2000/svg\" style=\"width: 100%; min-height: 16px; margin-bottom: -3px;\" viewBox=\"-100 0 200 30\" ><line x1=\"0\" y1=\"0\" x2=\"0\" y2=\"30\" stroke-width=\"2\" stroke=\"#000\"/><text text-anchor=\"end\" x=\"-4\" y=\"21\" font-size=\"16\" font-weight=\"bold\"> - / 10 </text></svg></div></div></td></tr><tr><td class=\"comparison\" style=\"background-color: transparent; color: #000; min-width: 120px; max-width: 140px; vertical-align: bottom;\"><div style=\"display: flex; flex-wrap: nowrap; flex-direction: column; align-items: stretch; border-radius: 4px; overflow: hidden; border: 1px solid #ccc;\"><div style=\"padding: 4px 6px; text-align: center;\">Meets criteria: ✅︎</div><div style=\"white-space:nowrap; border-top: 2px solid #ccc; background-color: #888; text-align: center; overflow: hidden;\">\n",
       "        <svg xmlns=\"http://www.w3.org/2000/svg\" style=\"width: 100%; min-height: 16px; margin-bottom: -3px;\" viewBox=\"-100 0 200 30\" ><line x1=\"-100\" y1=\"15\" x2=\"63.28324000360766\" y2=\"15\" stroke-width=\"30\" stroke=\"rgb(96.66057444149445, 198.95960799823456, 0)\"/><text text-anchor=\"middle\" x=\"0\" y=\"21\" font-size=\"16\" font-weight=\"bold\">65.31 / 80 (81.64 %)</text></svg></div><div style=\"white-space:nowrap; border-top: 2px solid #ccc; background-color: #888; text-align: center; overflow: hidden;\">\n",
       "        <svg xmlns=\"http://www.w3.org/2000/svg\" style=\"width: 100%; min-height: 16px; margin-bottom: -3px;\" viewBox=\"-100 0 200 30\" ><line x1=\"0\" y1=\"0\" x2=\"0\" y2=\"30\" stroke-width=\"2\" stroke=\"#000\"/><line x1=\"65.31329600144306\" y1=\"15\" x2=\"0\" y2=\"15\" stroke-width=\"30\" stroke=\"rgb(132.2738346157883, 196.27737864521072, 0)\"/><text text-anchor=\"end\" x=\"-4\" y=\"21\" font-size=\"16\" font-weight=\"bold\"> 65.31 / 80 </text></svg></div></div></td><td class=\"comparison\" style=\"background-color: transparent; color: #000; min-width: 120px; max-width: 140px; vertical-align: bottom;\"><div style=\"display: flex; flex-wrap: nowrap; flex-direction: column; align-items: stretch; border-radius: 4px; overflow: hidden; border: 1px solid #ccc;\"><div style=\"padding: 4px 6px;\">glasner (0), lovi (0), abeles (1.00) [-0.17]</div><div style=\"background-color: rgba(0, 169, 176, 0.3); padding: 4px 6px;\">glasner (0), lovi (0) [1.00]</div><div style=\"white-space:nowrap; border-top: 2px solid #ccc; background-color: #888; text-align: center; overflow: hidden;\">\n",
       "        <svg xmlns=\"http://www.w3.org/2000/svg\" style=\"width: 100%; min-height: 16px; margin-bottom: -3px;\" viewBox=\"-100 0 200 30\" ><line x1=\"0\" y1=\"0\" x2=\"0\" y2=\"30\" stroke-width=\"2\" stroke=\"#000\"/><line x1=\"41.30205021669432\" y1=\"15\" x2=\"0\" y2=\"15\" stroke-width=\"30\" stroke=\"rgb(170.07854640399037, 189.27255349518572, 0)\"/><text text-anchor=\"end\" x=\"-4\" y=\"21\" font-size=\"16\" font-weight=\"bold\"> 10.33 / 25 </text></svg></div></div></td><td class=\"comparison\" style=\"background-color: transparent; color: #000; min-width: 120px; max-width: 140px; vertical-align: bottom;\"><div style=\"display: flex; flex-wrap: nowrap; flex-direction: column; align-items: stretch; border-radius: 4px; overflow: hidden; border: 1px solid #ccc;\"><div style=\"padding: 4px 6px;\">margarete (0) [1.00]</div><div style=\"background-color: rgba(0, 169, 176, 0.3); padding: 4px 6px;\">margarete (0) [1.00]</div><div style=\"white-space:nowrap; border-top: 2px solid #ccc; background-color: #888; text-align: center; overflow: hidden;\">\n",
       "        <svg xmlns=\"http://www.w3.org/2000/svg\" style=\"width: 100%; min-height: 16px; margin-bottom: -3px;\" viewBox=\"-100 0 200 30\" ><line x1=\"0\" y1=\"0\" x2=\"0\" y2=\"30\" stroke-width=\"2\" stroke=\"#000\"/><line x1=\"99.9511337890779\" y1=\"15\" x2=\"0\" y2=\"15\" stroke-width=\"30\" stroke=\"rgb(4.99562060681027, 199.99999263509582, 0)\"/><text text-anchor=\"end\" x=\"-4\" y=\"21\" font-size=\"16\" font-weight=\"bold\"> 24.99 / 25 </text></svg></div></div></td><td class=\"comparison\" style=\"background-color: transparent; color: #000; min-width: 120px; max-width: 140px; vertical-align: bottom;\"><div style=\"display: flex; flex-wrap: nowrap; flex-direction: column; align-items: stretch; border-radius: 4px; overflow: hidden; border: 1px solid #ccc;\"><div style=\"padding: 4px 6px;\">1891-09-09</div><div style=\"background-color: rgba(0, 169, 176, 0.3); padding: 4px 6px;\">1891-09-09</div><div style=\"white-space:nowrap; border-top: 2px solid #ccc; background-color: #888; text-align: center; overflow: hidden;\">\n",
       "        <svg xmlns=\"http://www.w3.org/2000/svg\" style=\"width: 100%; min-height: 16px; margin-bottom: -3px;\" viewBox=\"-100 0 200 30\" ><line x1=\"0\" y1=\"0\" x2=\"0\" y2=\"30\" stroke-width=\"2\" stroke=\"#000\"/><line x1=\"100.0\" y1=\"15\" x2=\"0\" y2=\"15\" stroke-width=\"30\" stroke=\"rgb(1.9954029431991503e-06, 200.0, 0)\"/><text text-anchor=\"end\" x=\"-4\" y=\"21\" font-size=\"16\" font-weight=\"bold\"> 20.00 / 20 </text></svg></div></div></td><td class=\"comparison\" style=\"background-color: transparent; color: #000; min-width: 120px; max-width: 140px; vertical-align: bottom;\"><div style=\"display: flex; flex-wrap: nowrap; flex-direction: column; align-items: stretch; border-radius: 4px; overflow: hidden; border: 1px solid #ccc;\"><div style=\"padding: 4px 6px;\">munchen (0), bavaria (1.00) [-0.50]</div><div style=\"background-color: rgba(0, 169, 176, 0.3); padding: 4px 6px;\">munchen (0) [1.00]</div><div style=\"white-space:nowrap; border-top: 2px solid #ccc; background-color: #888; text-align: center; overflow: hidden;\">\n",
       "        <svg xmlns=\"http://www.w3.org/2000/svg\" style=\"width: 100%; min-height: 16px; margin-bottom: -3px;\" viewBox=\"-100 0 200 30\" ><line x1=\"0\" y1=\"0\" x2=\"0\" y2=\"30\" stroke-width=\"2\" stroke=\"#000\"/><line x1=\"100.0\" y1=\"15\" x2=\"0\" y2=\"15\" stroke-width=\"30\" stroke=\"rgb(1.9954029431991503e-06, 200.0, 0)\"/><text text-anchor=\"end\" x=\"-4\" y=\"21\" font-size=\"16\" font-weight=\"bold\"> 10.00 / 10 </text></svg></div></div></td><td class=\"comparison\" style=\"background-color: #555; color: #fff; min-width: 120px; max-width: 140px; vertical-align: bottom;\"><div style=\"display: flex; flex-wrap: nowrap; flex-direction: column; align-items: stretch; border-radius: 4px; overflow: hidden; border: 1px solid #ccc;\"><div style=\"padding: 4px 6px;\">-</div><div style=\"background-color: rgba(0, 169, 176, 0.3); padding: 4px 6px;\">1941-12-11</div><div style=\"white-space:nowrap; border-top: 2px solid #ccc; background-color: #888; text-align: center; overflow: hidden;\">\n",
       "        <svg xmlns=\"http://www.w3.org/2000/svg\" style=\"width: 100%; min-height: 16px; margin-bottom: -3px;\" viewBox=\"-100 0 200 30\" ><line x1=\"0\" y1=\"0\" x2=\"0\" y2=\"30\" stroke-width=\"2\" stroke=\"#000\"/><text text-anchor=\"end\" x=\"-4\" y=\"21\" font-size=\"16\" font-weight=\"bold\"> - / 10 </text></svg></div></div></td><td class=\"comparison\" style=\"background-color: #555; color: #fff; min-width: 120px; max-width: 140px; vertical-align: bottom;\"><div style=\"display: flex; flex-wrap: nowrap; flex-direction: column; align-items: stretch; border-radius: 4px; overflow: hidden; border: 1px solid #ccc;\"><div style=\"padding: 4px 6px;\">-</div><div style=\"background-color: rgba(0, 169, 176, 0.3); padding: 4px 6px;\">-</div><div style=\"white-space:nowrap; border-top: 2px solid #ccc; background-color: #888; text-align: center; overflow: hidden;\">\n",
       "        <svg xmlns=\"http://www.w3.org/2000/svg\" style=\"width: 100%; min-height: 16px; margin-bottom: -3px;\" viewBox=\"-100 0 200 30\" ><line x1=\"0\" y1=\"0\" x2=\"0\" y2=\"30\" stroke-width=\"2\" stroke=\"#000\"/><text text-anchor=\"end\" x=\"-4\" y=\"21\" font-size=\"16\" font-weight=\"bold\"> - / 10 </text></svg></div></div></td></tr></body></table>"
      ],
      "text/plain": [
       "<IPython.core.display.HTML object>"
      ]
     },
     "metadata": {},
     "output_type": "display_data"
    }
   ],
   "source": [
    "\n",
    "\n",
    "local_test_data = {\n",
    "    'forenames': ['Margarethe', 'Margarete'],\n",
    "    'surnames': ['Glaessner', 'Glässner', 'Loewy'],\n",
    "    'birth_place': ['München'],\n",
    "    'birth_date': ['1891-09-09'],\n",
    "    #'death_place': ['Dachau'],\n",
    "    'death_date': ['1941-12-11'],\n",
    "}\n",
    "\n",
    "external_test_data_sets = [\n",
    "    {\n",
    "        'forenames': ['Margarete'],\n",
    "        'surnames': ['Glaessner', 'Loewy', 'Abeles'],\n",
    "        'birth_place': ['München', 'Bavaria'],\n",
    "        'birth_date': ['1891-09-09'],\n",
    "        #'death_place': ['Auschwitz'],\n",
    "        #'death_date': ['1941-11-11'],\n",
    "    },\n",
    "    {\n",
    "        'forenames': ['Grete'],\n",
    "        'surnames': ['Glaessner', 'Loewy',],\n",
    "        'birth_place': ['München', 'Bavaria'],\n",
    "        'birth_date': ['1897-09-09'],\n",
    "        #'death_place': ['Auschwitz'],\n",
    "        #'death_date': ['1941-11-11'],\n",
    "    },\n",
    "    {\n",
    "        'forenames': ['Grete'],\n",
    "        'surnames': ['Glaesner', 'Loewy',],\n",
    "        'birth_place': ['München', 'Bavaria'],\n",
    "        'birth_date': ['1897-09-09'],\n",
    "        'death_place': ['Auschwitz'],\n",
    "        #'death_date': ['1941-11-11'],\n",
    "    }\n",
    "]\n",
    "\n",
    "results = []\n",
    "for external_test_data in external_test_data_sets:\n",
    "    results.append(get_matching_score(local_test_data, external_test_data))\n",
    "\n",
    "results = sorted(results, key=lambda d: (d['absolute_score'], d['relative_score']))\n",
    "results.reverse()\n",
    "\n",
    "\n",
    "output_html = get_results_as_html(results)\n",
    "\n",
    "display(HTML(output_html))"
   ]
  },
  {
   "cell_type": "code",
   "execution_count": 4,
   "id": "e1cae111-07a9-4abe-8b64-faff30188b5f",
   "metadata": {},
   "outputs": [
    {
     "data": {
      "text/html": [
       "<table><tr style=\"text-align: center;\"><th style=\"text-align: center;\">Score</th><th style=\"text-align: center;\">Surname</th><th style=\"text-align: center;\">Forename</th><th style=\"text-align: center;\">Birth date</th><th style=\"text-align: center;\">Birth place</th><th style=\"text-align: center;\">Death date</th><th style=\"text-align: center;\">Death place</th></tr><tr><td class=\"comparison\" style=\"background-color: transparent; color: #000; min-width: 120px; max-width: 140px; vertical-align: bottom;\"><div style=\"display: flex; flex-wrap: nowrap; flex-direction: column; align-items: stretch; border-radius: 4px; overflow: hidden; border: 1px solid #ccc;\"><div style=\"padding: 4px 6px; text-align: center;\">Meets criteria: ✅︎</div><div style=\"white-space:nowrap; border-top: 2px solid #ccc; background-color: #888; text-align: center; overflow: hidden;\">\n",
       "        <svg xmlns=\"http://www.w3.org/2000/svg\" style=\"width: 100%; min-height: 16px; margin-bottom: -3px;\" viewBox=\"-100 0 200 30\" ><line x1=\"-100\" y1=\"15\" x2=\"41.3838403491813\" y2=\"15\" stroke-width=\"30\" stroke=\"rgb(121.802950275073, 197.34479217539806, 0)\"/><text text-anchor=\"middle\" x=\"0\" y=\"21\" font-size=\"16\" font-weight=\"bold\">70.69 / 100 (70.69 %)</text></svg></div><div style=\"white-space:nowrap; border-top: 2px solid #ccc; background-color: #888; text-align: center; overflow: hidden;\">\n",
       "        <svg xmlns=\"http://www.w3.org/2000/svg\" style=\"width: 100%; min-height: 16px; margin-bottom: -3px;\" viewBox=\"-100 0 200 30\" ><line x1=\"0\" y1=\"0\" x2=\"0\" y2=\"30\" stroke-width=\"2\" stroke=\"#000\"/><line x1=\"70.69192017459065\" y1=\"15\" x2=\"0\" y2=\"15\" stroke-width=\"30\" stroke=\"rgb(121.802950275073, 197.34479217539806, 0)\"/><text text-anchor=\"end\" x=\"-4\" y=\"21\" font-size=\"16\" font-weight=\"bold\"> 70.69 / 100 </text></svg></div></div></td><td class=\"comparison\" style=\"background-color: transparent; color: #000; min-width: 120px; max-width: 140px; vertical-align: bottom;\"><div style=\"display: flex; flex-wrap: nowrap; flex-direction: column; align-items: stretch; border-radius: 4px; overflow: hidden; border: 1px solid #ccc;\"><div style=\"padding: 4px 6px;\">abrahams (0.27) [0.66]</div><div style=\"background-color: rgba(0, 169, 176, 0.3); padding: 4px 6px;\">abrehamson (0.27) [0.63]</div><div style=\"white-space:nowrap; border-top: 2px solid #ccc; background-color: #888; text-align: center; overflow: hidden;\">\n",
       "        <svg xmlns=\"http://www.w3.org/2000/svg\" style=\"width: 100%; min-height: 16px; margin-bottom: -3px;\" viewBox=\"-100 0 200 30\" ><line x1=\"0\" y1=\"0\" x2=\"0\" y2=\"30\" stroke-width=\"2\" stroke=\"#000\"/><line x1=\"64.43331030749533\" y1=\"15\" x2=\"0\" y2=\"15\" stroke-width=\"30\" stroke=\"rgb(133.89841290506342, 196.08544958955477, 0)\"/><text text-anchor=\"end\" x=\"-4\" y=\"21\" font-size=\"16\" font-weight=\"bold\"> 16.11 / 25 </text></svg></div></div></td><td class=\"comparison\" style=\"background-color: transparent; color: #000; min-width: 120px; max-width: 140px; vertical-align: bottom;\"><div style=\"display: flex; flex-wrap: nowrap; flex-direction: column; align-items: stretch; border-radius: 4px; overflow: hidden; border: 1px solid #ccc;\"><div style=\"padding: 4px 6px;\">alexander (0.25) [0.71]</div><div style=\"background-color: rgba(0, 169, 176, 0.3); padding: 4px 6px;\">alex (0.25) [0.71]</div><div style=\"white-space:nowrap; border-top: 2px solid #ccc; background-color: #888; text-align: center; overflow: hidden;\">\n",
       "        <svg xmlns=\"http://www.w3.org/2000/svg\" style=\"width: 100%; min-height: 16px; margin-bottom: -3px;\" viewBox=\"-100 0 200 30\" ><line x1=\"0\" y1=\"0\" x2=\"0\" y2=\"30\" stroke-width=\"2\" stroke=\"#000\"/><line x1=\"70.71067811865477\" y1=\"15\" x2=\"0\" y2=\"15\" stroke-width=\"30\" stroke=\"rgb(121.76465591691682, 197.3481976246382, 0)\"/><text text-anchor=\"end\" x=\"-4\" y=\"21\" font-size=\"16\" font-weight=\"bold\"> 17.68 / 25 </text></svg></div></div></td><td class=\"comparison\" style=\"background-color: transparent; color: #000; min-width: 120px; max-width: 140px; vertical-align: bottom;\"><div style=\"display: flex; flex-wrap: nowrap; flex-direction: column; align-items: stretch; border-radius: 4px; overflow: hidden; border: 1px solid #ccc;\"><div style=\"padding: 4px 6px;\">1922-11-11</div><div style=\"background-color: rgba(0, 169, 176, 0.3); padding: 4px 6px;\">1923-02-01</div><div style=\"white-space:nowrap; border-top: 2px solid #ccc; background-color: #888; text-align: center; overflow: hidden;\">\n",
       "        <svg xmlns=\"http://www.w3.org/2000/svg\" style=\"width: 100%; min-height: 16px; margin-bottom: -3px;\" viewBox=\"-100 0 200 30\" ><line x1=\"0\" y1=\"0\" x2=\"0\" y2=\"30\" stroke-width=\"2\" stroke=\"#000\"/><line x1=\"93.52567411775563\" y1=\"15\" x2=\"0\" y2=\"15\" stroke-width=\"30\" stroke=\"rgb(57.489537297770624, 199.87070381734407, 0)\"/><text text-anchor=\"end\" x=\"-4\" y=\"21\" font-size=\"16\" font-weight=\"bold\"> 18.71 / 20 </text></svg></div></div></td><td class=\"comparison\" style=\"background-color: transparent; color: #000; min-width: 120px; max-width: 140px; vertical-align: bottom;\"><div style=\"display: flex; flex-wrap: nowrap; flex-direction: column; align-items: stretch; border-radius: 4px; overflow: hidden; border: 1px solid #ccc;\"><div style=\"padding: 4px 6px;\">munchen (0), bavaria (1.00) [-0.50]</div><div style=\"background-color: rgba(0, 169, 176, 0.3); padding: 4px 6px;\">munchen (0) [1.00]</div><div style=\"white-space:nowrap; border-top: 2px solid #ccc; background-color: #888; text-align: center; overflow: hidden;\">\n",
       "        <svg xmlns=\"http://www.w3.org/2000/svg\" style=\"width: 100%; min-height: 16px; margin-bottom: -3px;\" viewBox=\"-100 0 200 30\" ><line x1=\"0\" y1=\"0\" x2=\"0\" y2=\"30\" stroke-width=\"2\" stroke=\"#000\"/><line x1=\"100.0\" y1=\"15\" x2=\"0\" y2=\"15\" stroke-width=\"30\" stroke=\"rgb(1.9954029431991503e-06, 200.0, 0)\"/><text text-anchor=\"end\" x=\"-4\" y=\"21\" font-size=\"16\" font-weight=\"bold\"> 10.00 / 10 </text></svg></div></div></td><td class=\"comparison\" style=\"background-color: transparent; color: #000; min-width: 120px; max-width: 140px; vertical-align: bottom;\"><div style=\"display: flex; flex-wrap: nowrap; flex-direction: column; align-items: stretch; border-radius: 4px; overflow: hidden; border: 1px solid #ccc;\"><div style=\"padding: 4px 6px;\">1943-02-02</div><div style=\"background-color: rgba(0, 169, 176, 0.3); padding: 4px 6px;\">1942-01-01</div><div style=\"white-space:nowrap; border-top: 2px solid #ccc; background-color: #888; text-align: center; overflow: hidden;\">\n",
       "        <svg xmlns=\"http://www.w3.org/2000/svg\" style=\"width: 100%; min-height: 16px; margin-bottom: -3px;\" viewBox=\"-100 0 200 30\" ><line x1=\"0\" y1=\"0\" x2=\"0\" y2=\"30\" stroke-width=\"2\" stroke=\"#000\"/><line x1=\"-17.992117554979952\" y1=\"15\" x2=\"0\" y2=\"15\" stroke-width=\"30\" stroke=\"rgb(228.02867750269442, 154.97996406189222, 0)\"/><text text-anchor=\"start\" x=\"4\" y=\"21\" font-size=\"16\" font-weight=\"bold\"> -1.80 / 10 </text></svg></div></div></td><td class=\"comparison\" style=\"background-color: transparent; color: #000; min-width: 120px; max-width: 140px; vertical-align: bottom;\"><div style=\"display: flex; flex-wrap: nowrap; flex-direction: column; align-items: stretch; border-radius: 4px; overflow: hidden; border: 1px solid #ccc;\"><div style=\"padding: 4px 6px;\">dachau (0) [1.00]</div><div style=\"background-color: rgba(0, 169, 176, 0.3); padding: 4px 6px;\">dachau (0) [1.00]</div><div style=\"white-space:nowrap; border-top: 2px solid #ccc; background-color: #888; text-align: center; overflow: hidden;\">\n",
       "        <svg xmlns=\"http://www.w3.org/2000/svg\" style=\"width: 100%; min-height: 16px; margin-bottom: -3px;\" viewBox=\"-100 0 200 30\" ><line x1=\"0\" y1=\"0\" x2=\"0\" y2=\"30\" stroke-width=\"2\" stroke=\"#000\"/><line x1=\"100.0\" y1=\"15\" x2=\"0\" y2=\"15\" stroke-width=\"30\" stroke=\"rgb(1.9954029431991503e-06, 200.0, 0)\"/><text text-anchor=\"end\" x=\"-4\" y=\"21\" font-size=\"16\" font-weight=\"bold\"> 10.00 / 10 </text></svg></div></div></td></tr></body></table>"
      ],
      "text/plain": [
       "<IPython.core.display.HTML object>"
      ]
     },
     "metadata": {},
     "output_type": "display_data"
    }
   ],
   "source": [
    "\n",
    "\n",
    "local_test_data = {\n",
    "    'forenames': ['Alex'],\n",
    "    'surnames': ['abrehamsohn'],\n",
    "    'birth_place': ['München'],\n",
    "    'birth_date': ['1923-02-01'],\n",
    "    'death_place': ['Dachau'],\n",
    "    'death_date': ['1942-01-01'],\n",
    "}\n",
    "\n",
    "external_test_data = {\n",
    "    'forenames': ['Alexander'],\n",
    "    'surnames': ['abrahams'],\n",
    "    'birth_place': ['München', 'Bavaria'],\n",
    "    'birth_date': ['1922-11-11'],\n",
    "    'death_place': ['Dachau'],\n",
    "    'death_date': ['1943-02-02'],\n",
    "}\n",
    "\n",
    "result = get_matching_score(local_test_data, external_test_data)\n",
    "\n",
    "output_html = get_results_as_html(result)\n",
    "\n",
    "display(HTML(output_html))"
   ]
  },
  {
   "cell_type": "code",
   "execution_count": null,
   "id": "16ad8ad4-cc6e-4236-ab98-5adc593e8b82",
   "metadata": {},
   "outputs": [],
   "source": []
  },
  {
   "cell_type": "code",
   "execution_count": null,
   "id": "3087d6a4-c4be-4387-a25a-87ba885906a4",
   "metadata": {},
   "outputs": [],
   "source": []
  }
 ],
 "metadata": {
  "kernelspec": {
   "display_name": "Python 3 (ipykernel)",
   "language": "python",
   "name": "python3"
  },
  "language_info": {
   "codemirror_mode": {
    "name": "ipython",
    "version": 3
   },
   "file_extension": ".py",
   "mimetype": "text/x-python",
   "name": "python",
   "nbconvert_exporter": "python",
   "pygments_lexer": "ipython3",
   "version": "3.12.3"
  }
 },
 "nbformat": 4,
 "nbformat_minor": 5
}
